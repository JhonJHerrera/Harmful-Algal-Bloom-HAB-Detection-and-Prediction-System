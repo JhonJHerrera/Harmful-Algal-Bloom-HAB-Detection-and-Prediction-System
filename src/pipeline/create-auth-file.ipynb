{
 "cells": [
  {
   "cell_type": "code",
   "execution_count": 3,
   "id": "797f5922",
   "metadata": {},
   "outputs": [],
   "source": [
    "import configparser      # a library that allows us to parse standard configuration files\n",
    "import IPython           # a library that helps us display video and HTML content\n",
    "import os                # a library that allows us access to basic operating system commands like making directories\n",
    "import shutil            # a library that allows us access to basic operating system commands like copy\n",
    "import zipfile           # a library that allows us to unzip zip-files.\n",
    "import eumdac            # a tool that helps us download via the eumetsat/data-store\n",
    "from pathlib import Path # a library that helps construct system path objects\n",
    "import getpass           # a library to help us enter passwords"
   ]
  },
  {
   "cell_type": "code",
   "execution_count": 7,
   "id": "1c578dea",
   "metadata": {},
   "outputs": [],
   "source": [
    "# Reference:\n",
    "# https://gitlab.eumetsat.int/eumetlab/oceans/ocean-training/sensors/learn-olci/-/blob/main/1_OLCI_introductory/1_1a_OLCI_data_access_Data_Store.ipynb#section2"
   ]
  },
  {
   "cell_type": "markdown",
   "id": "4c71c97f",
   "metadata": {},
   "source": [
    "To download data from the EUMETSDAT Data Store via API, you need to provide credentials. To obtain these you should first register at for an EUMETSAT Earth Observation Portal account \n",
    "(https://eoportal.eumetsat.int/).\n",
    "\n",
    "Once you have an account, you can retrieve your <your_consumer_key> and <your_consumer_secret> from the \"EUMETSAT Data Store API\" page \n",
    "https://api.eumetsat.int/api-key/\n",
    "\n",
    "\n",
    "Note: you must click the \"Show hidden fields\" button at the bottom of the page to see the relevant fields. If you do not already have a local credentials file, you will be prompted to enter your credentials when you run the cell below. This will create the required local credentials file, so that you only need to run this once.Note: your key and secret are permanent, so you should take care to never share them"
   ]
  },
  {
   "cell_type": "code",
   "execution_count": 6,
   "id": "7debdad8",
   "metadata": {},
   "outputs": [
    {
     "name": "stdout",
     "output_type": "stream",
     "text": [
      "This token '02faa907-6307-39a0-9a48-a4dd3e7291bb' expires 2024-12-27 13:58:40.024625\n"
     ]
    }
   ],
   "source": [
    "# load credentials\n",
    "eumdac_credentials_file = Path(Path.home() / '.eumdac' / 'credentials')\n",
    "\n",
    "if os.path.exists(eumdac_credentials_file):\n",
    "    consumer_key, consumer_secret = Path(eumdac_credentials_file).read_text().split(',')\n",
    "else:\n",
    "    # creating authentication file\n",
    "    consumer_key = input('Enter your consumer key: ')\n",
    "    consumer_secret = getpass.getpass('Enter your consumer secret: ')\n",
    "    try:\n",
    "        os.makedirs(os.path.dirname(eumdac_credentials_file), exist_ok=True)\n",
    "        with open(eumdac_credentials_file, \"w\") as f:\n",
    "            f.write(f'{consumer_key},{consumer_secret}')\n",
    "    except:\n",
    "        pass\n",
    "        \n",
    "token = eumdac.AccessToken((consumer_key, consumer_secret))\n",
    "print(f\"This token '{token}' expires {token.expiration}\")"
   ]
  }
 ],
 "metadata": {
  "kernelspec": {
   "display_name": "Python 3 (ipykernel)",
   "language": "python",
   "name": "python3"
  },
  "language_info": {
   "codemirror_mode": {
    "name": "ipython",
    "version": 3
   },
   "file_extension": ".py",
   "mimetype": "text/x-python",
   "name": "python",
   "nbconvert_exporter": "python",
   "pygments_lexer": "ipython3",
   "version": "3.13.1"
  }
 },
 "nbformat": 4,
 "nbformat_minor": 5
}
